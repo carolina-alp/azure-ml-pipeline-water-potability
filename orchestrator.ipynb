{
  "cells": [
    {
      "cell_type": "code",
      "source": [
        "from azure.ai.ml import load_component\n",
        "from azure.ai.ml.dsl import pipeline\n",
        "from azure.ai.ml import MLClient, Input\n",
        "from azure.identity import DefaultAzureCredential, EnvironmentCredential\n",
        "from azure.ai.ml.entities import AmlCompute\n",
        "import os"
      ],
      "outputs": [],
      "execution_count": 1,
      "metadata": {
        "gather": {
          "logged": 1699445858719
        }
      }
    },
    {
      "cell_type": "code",
      "source": [
        "# Get a handle to workspace\n",
        "credential = DefaultAzureCredential()\n",
        "ml_client = MLClient.from_config(credential=credential)"
      ],
      "outputs": [
        {
          "output_type": "stream",
          "name": "stderr",
          "text": "Found the config file in: /config.json\n"
        }
      ],
      "execution_count": 2,
      "metadata": {
        "jupyter": {
          "source_hidden": false,
          "outputs_hidden": false
        },
        "nteract": {
          "transient": {
            "deleting": false
          }
        },
        "gather": {
          "logged": 1699445860254
        }
      }
    },
    {
      "cell_type": "code",
      "source": [
        "# Create environment\n",
        "environment_path = (\".\")\n",
        "\n",
        "environment_name = \"project-Environment\"\n",
        "try:\n",
        "    ml_client.environments.get(name=environment_name, version=\"1\")\n",
        "except Exception:\n",
        "    print(f\"Cannot find environment {environment_name} in workspace, creating it\")\n",
        "    from azure.ai.ml.entities import Environment\n",
        "\n",
        "    environment = Environment(\n",
        "        image=\"mcr.microsoft.com/azureml/openmpi3.1.2-ubuntu18.04:20220303.v1\",\n",
        "        conda_file=f\"{environment_path}/environment/conda_envs/python-project-environment.yaml\",\n",
        "        name=environment_name,\n",
        "        version=\"1\",\n",
        "        description=\"Custom environment for eda\",\n",
        "    )\n",
        "    ml_client.environments.create_or_update(environment)"
      ],
      "outputs": [
        {
          "output_type": "stream",
          "name": "stdout",
          "text": "Cannot find environment project-Environment in workspace, creating it\n"
        }
      ],
      "execution_count": 3,
      "metadata": {
        "jupyter": {
          "source_hidden": false,
          "outputs_hidden": false
        },
        "nteract": {
          "transient": {
            "deleting": false
          }
        },
        "gather": {
          "logged": 1699445881991
        }
      }
    },
    {
      "cell_type": "code",
      "source": [
        "# Define a comput\n",
        "def get_comput_target(ml_client, name=\"cpu-cluster\", family='Standard_D2_v2'):\n",
        "    cpu_compute_target = name\n",
        "    \n",
        "    try:\n",
        "        # let's see if the compute target already exists\n",
        "        cpu_cluster = ml_client.compute.get(cpu_compute_target)\n",
        "    except Exception:\n",
        "        cpu_cluster = AmlCompute(\n",
        "            name=cpu_compute_target,\n",
        "            type=\"amlcompute\",\n",
        "            size=family,\n",
        "            min_instances=0,\n",
        "            max_instances=2,\n",
        "            idle_time_before_scale_down=180,\n",
        "            tier=\"Dedicated\",\n",
        "        )\n",
        "    \n",
        "        cpu_cluster = ml_client.compute.begin_create_or_update(cpu_cluster).result()"
      ],
      "outputs": [],
      "execution_count": 6,
      "metadata": {
        "jupyter": {
          "source_hidden": false,
          "outputs_hidden": false
        },
        "nteract": {
          "transient": {
            "deleting": false
          }
        },
        "gather": {
          "logged": 1699445946526
        }
      }
    },
    {
      "cell_type": "code",
      "source": [
        "compute_target = get_comput_target(ml_client)"
      ],
      "outputs": [],
      "execution_count": 7,
      "metadata": {
        "jupyter": {
          "source_hidden": false,
          "outputs_hidden": false
        },
        "nteract": {
          "transient": {
            "deleting": false
          }
        },
        "gather": {
          "logged": 1699445946889
        }
      }
    },
    {
      "cell_type": "code",
      "source": [
        "# Components\n",
        "fill_eda_component = load_component(source=\"./fill_eda-component/fill_eda.yml\")\n",
        "split_component = load_component(source=\"./split-component/split.yml\")\n",
        "train_lr_component = load_component(source=\"./train_LogisticRegression_component/train_LogisticRegression.yml\")\n",
        "train_dt_component = load_component(source=\"./train_DecisionTree_component/train_DecisionTree.yml\")\n",
        "score_component = load_component(source=\"./score-component/score.yml\")\n",
        "eval_component = load_component(source=\"./eval-component/eval.yml\")"
      ],
      "outputs": [],
      "execution_count": 8,
      "metadata": {
        "jupyter": {
          "source_hidden": false,
          "outputs_hidden": false
        },
        "nteract": {
          "transient": {
            "deleting": false
          }
        },
        "gather": {
          "logged": 1699445947443
        }
      }
    },
    {
      "cell_type": "code",
      "source": [
        "# define a pipeline: Fill, split, train LR, train DT, score, eval\n",
        "@pipeline(\n",
        "    default_compute='cpu-cluster',\n",
        ")\n",
        "def water_potability_prediction(pipeline_input_data):     \n",
        "        \n",
        "    fill_node=fill_eda_component(\n",
        "        data_set = pipeline_input_data,\n",
        "    )    \n",
        "\n",
        "    split_node=split_component(\n",
        "        data_set = fill_node.outputs.data_clean,\n",
        "    )\n",
        "    \n",
        "    train_lr_node=train_lr_component(\n",
        "        data_train = split_node.outputs.data_train,\n",
        "    )\n",
        "\n",
        "    train_dt_node=train_dt_component(\n",
        "        data_train = split_node.outputs.data_train,\n",
        "        criterion = \"entropy\", \n",
        "        min_samples_split= 3, \n",
        "        max_depth=4,\n",
        "    )        \n",
        "\n",
        "    score_lr_node=score_component(\n",
        "        model_input=train_lr_node.outputs.model_output_lr_pickle,\n",
        "        test_data=split_node.outputs.data_test,\n",
        "    )\n",
        "\n",
        "    score_dt_node=score_component(\n",
        "        model_input=train_dt_node.outputs.model_output_dt_pickle,\n",
        "        test_data=split_node.outputs.data_test,\n",
        "    )\n",
        "\n",
        "    eval_lr_node=eval_component(\n",
        "        scoring_result=score_lr_node.outputs.score_output\n",
        "    )\n",
        "\n",
        "    eval_dt_node = eval_component(\n",
        "        scoring_result=score_dt_node.outputs.score_output\n",
        "    )\n",
        "\n",
        "    return {\n",
        "        \"pipeline_fill_pairplot_output\" : fill_node.outputs.pairplot_fig,  \n",
        "        \"pipeline_model_pkl_lr_output\" : train_lr_node.outputs.model_output_lr_pickle,     \n",
        "        \"pipeline_model_pkl_dt_output\" : train_dt_node.outputs.model_output_dt_pickle,\n",
        "        \"pipeline_eval_lr_output\": eval_lr_node.outputs.eval_output,\n",
        "        \"pipeline_eval_dt_output\": eval_dt_node.outputs.eval_output\n",
        "    }"
      ],
      "outputs": [],
      "execution_count": 9,
      "metadata": {
        "jupyter": {
          "source_hidden": false,
          "outputs_hidden": false
        },
        "nteract": {
          "transient": {
            "deleting": false
          }
        },
        "gather": {
          "logged": 1699445948473
        }
      }
    },
    {
      "cell_type": "code",
      "source": [
        "# create a pipeline\n",
        "water_potability_ds =  Input(\n",
        "            type=\"uri_file\",\n",
        "            path=\"azureml://subscriptions/3deaa453-5a6c-4bcd-85f1-1645c3ccd539/resourcegroups/diplomado_ucb/workspaces/ws-proyecto-2-wp/datastores/workspaceblobstore/paths/UI/2023-11-08_121450_UTC/water_potability_ds.csv\",\n",
        "        )\n",
        "pipeline_job = water_potability_prediction(pipeline_input_data=water_potability_ds)"
      ],
      "outputs": [],
      "execution_count": 10,
      "metadata": {
        "jupyter": {
          "source_hidden": false,
          "outputs_hidden": false
        },
        "nteract": {
          "transient": {
            "deleting": false
          }
        },
        "gather": {
          "logged": 1699445949115
        }
      }
    },
    {
      "cell_type": "code",
      "source": [
        "pipeline_job = ml_client.jobs.create_or_update(\n",
        "    pipeline_job, experiment_name=\"pipeline_water_potability_p2\"\n",
        ")\n",
        "pipeline_job"
      ],
      "outputs": [
        {
          "output_type": "stream",
          "name": "stderr",
          "text": "Class AutoDeleteSettingSchema: This is an experimental class, and may change at any time. Please see https://aka.ms/azuremlexperimental for more information.\nClass AutoDeleteConditionSchema: This is an experimental class, and may change at any time. Please see https://aka.ms/azuremlexperimental for more information.\nClass BaseAutoDeleteSettingSchema: This is an experimental class, and may change at any time. Please see https://aka.ms/azuremlexperimental for more information.\nClass IntellectualPropertySchema: This is an experimental class, and may change at any time. Please see https://aka.ms/azuremlexperimental for more information.\nClass ProtectionLevelSchema: This is an experimental class, and may change at any time. Please see https://aka.ms/azuremlexperimental for more information.\nClass BaseIntellectualPropertySchema: This is an experimental class, and may change at any time. Please see https://aka.ms/azuremlexperimental for more information.\n\u001b[32mUploading fill_eda_src (0.0 MBs): 100%|██████████| 2822/2822 [00:00<00:00, 24634.17it/s]\n\u001b[39m\n\n\u001b[32mUploading split_src (0.0 MBs): 100%|██████████| 1044/1044 [00:00<00:00, 127958.08it/s]\n\u001b[39m\n\n\u001b[32mUploading train_LogisticRegression_src (0.0 MBs): 100%|██████████| 1070/1070 [00:00<00:00, 139302.40it/s]\n\u001b[39m\n\n\u001b[32mUploading train_DecisionTree_src (0.0 MBs): 100%|██████████| 1484/1484 [00:00<00:00, 128226.01it/s]\n\u001b[39m\n\n\u001b[32mUploading score_src (0.0 MBs): 100%|██████████| 1112/1112 [00:00<00:00, 147859.06it/s]\n\u001b[39m\n\n\u001b[32mUploading eval_src (0.0 MBs): 100%|██████████| 873/873 [00:00<00:00, 73495.66it/s]\n\u001b[39m\n\n"
        },
        {
          "output_type": "execute_result",
          "execution_count": 11,
          "data": {
            "text/plain": "PipelineJob({'inputs': {'pipeline_input_data': <azure.ai.ml.entities._job.pipeline._io.base.PipelineInput object at 0x7fb42dab2b60>}, 'outputs': {'pipeline_fill_pairplot_output': <azure.ai.ml.entities._job.pipeline._io.base.PipelineOutput object at 0x7fb42dab2a70>, 'pipeline_model_pkl_lr_output': <azure.ai.ml.entities._job.pipeline._io.base.PipelineOutput object at 0x7fb42dab2bc0>, 'pipeline_model_pkl_dt_output': <azure.ai.ml.entities._job.pipeline._io.base.PipelineOutput object at 0x7fb42dab2bf0>, 'pipeline_eval_lr_output': <azure.ai.ml.entities._job.pipeline._io.base.PipelineOutput object at 0x7fb42dab2c20>, 'pipeline_eval_dt_output': <azure.ai.ml.entities._job.pipeline._io.base.PipelineOutput object at 0x7fb42dab2c50>}, 'jobs': {}, 'component': PipelineComponent({'intellectual_property': None, 'auto_increment_version': False, 'source': 'REMOTE.WORKSPACE.JOB', 'is_anonymous': True, 'auto_delete_setting': None, 'name': 'azureml_anonymous', 'description': None, 'tags': {}, 'properties': {}, 'print_as_yaml': True, 'id': None, 'Resource__source_path': None, 'base_path': '/mnt/batch/tasks/shared/LS_root/mounts/clusters/aldunatelipac1/code/Users/aldunatelipac', 'creation_context': None, 'serialize': <msrest.serialization.Serializer object at 0x7fb42dab2d70>, 'version': '1', 'latest_version': None, 'schema': None, 'type': 'pipeline', 'display_name': 'water_potability_prediction', 'is_deterministic': None, 'inputs': {'pipeline_input_data': {}}, 'outputs': {'pipeline_fill_pairplot_output': {}, 'pipeline_model_pkl_lr_output': {}, 'pipeline_model_pkl_dt_output': {}, 'pipeline_eval_lr_output': {}, 'pipeline_eval_dt_output': {}}, 'yaml_str': None, 'other_parameter': {}, 'jobs': {'fill_node': Command({'parameters': {}, 'init': False, 'name': 'fill_node', 'type': 'command', 'status': None, 'log_files': None, 'description': None, 'tags': {}, 'properties': {}, 'print_as_yaml': True, 'id': None, 'Resource__source_path': None, 'base_path': '/mnt/batch/tasks/shared/LS_root/mounts/clusters/aldunatelipac1/code/Users/aldunatelipac', 'creation_context': None, 'serialize': <msrest.serialization.Serializer object at 0x7fb42dab28f0>, 'allowed_keys': {}, 'key_restriction': False, 'logger': <Logger attr_dict (WARNING)>, 'display_name': None, 'experiment_name': None, 'compute': None, 'services': None, 'comment': None, 'job_inputs': {'data_set': '${{parent.inputs.pipeline_input_data}}'}, 'job_outputs': {'pairplot_fig': '${{parent.outputs.pipeline_fill_pairplot_output}}'}, 'inputs': {'data_set': <azure.ai.ml.entities._job.pipeline._io.base.NodeInput object at 0x7fb42dab25c0>}, 'outputs': {'pairplot_fig': <azure.ai.ml.entities._job.pipeline._io.base.NodeOutput object at 0x7fb42dab26b0>}, 'component': 'azureml_anonymous:d7fc341a-23e0-4301-9fcc-92070cb02469', 'referenced_control_flow_node_instance_id': None, 'kwargs': {'services': None}, 'instance_id': '0fce0224-b976-4cee-88ac-a09620993929', 'source': 'REMOTE.WORKSPACE.COMPONENT', 'validate_required_input_not_provided': True, 'limits': None, 'identity': None, 'distribution': None, 'environment_variables': {}, 'environment': None, 'resources': None, 'queue_settings': None, 'swept': False}), 'split_node': Command({'parameters': {}, 'init': False, 'name': 'split_node', 'type': 'command', 'status': None, 'log_files': None, 'description': None, 'tags': {}, 'properties': {}, 'print_as_yaml': True, 'id': None, 'Resource__source_path': None, 'base_path': '/mnt/batch/tasks/shared/LS_root/mounts/clusters/aldunatelipac1/code/Users/aldunatelipac', 'creation_context': None, 'serialize': <msrest.serialization.Serializer object at 0x7fb42dab2da0>, 'allowed_keys': {}, 'key_restriction': False, 'logger': <Logger attr_dict (WARNING)>, 'display_name': None, 'experiment_name': None, 'compute': None, 'services': None, 'comment': None, 'job_inputs': {'data_set': '${{parent.jobs.fill_node.outputs.data_clean}}'}, 'job_outputs': {}, 'inputs': {'data_set': <azure.ai.ml.entities._job.pipeline._io.base.NodeInput object at 0x7fb42dab2740>}, 'outputs': {}, 'component': 'azureml_anonymous:90d7498c-5d50-42a3-a20b-c19df42a3ce1', 'referenced_control_flow_node_instance_id': None, 'kwargs': {'services': None}, 'instance_id': 'de2130dc-2f31-4df2-a914-927f232f7ee7', 'source': 'REMOTE.WORKSPACE.COMPONENT', 'validate_required_input_not_provided': True, 'limits': None, 'identity': None, 'distribution': None, 'environment_variables': {}, 'environment': None, 'resources': None, 'queue_settings': None, 'swept': False}), 'train_lr_node': Command({'parameters': {}, 'init': False, 'name': 'train_lr_node', 'type': 'command', 'status': None, 'log_files': None, 'description': None, 'tags': {}, 'properties': {}, 'print_as_yaml': True, 'id': None, 'Resource__source_path': None, 'base_path': '/mnt/batch/tasks/shared/LS_root/mounts/clusters/aldunatelipac1/code/Users/aldunatelipac', 'creation_context': None, 'serialize': <msrest.serialization.Serializer object at 0x7fb42dab2e00>, 'allowed_keys': {}, 'key_restriction': False, 'logger': <Logger attr_dict (WARNING)>, 'display_name': None, 'experiment_name': None, 'compute': None, 'services': None, 'comment': None, 'job_inputs': {'data_train': '${{parent.jobs.split_node.outputs.data_train}}'}, 'job_outputs': {'model_output_lr_pickle': '${{parent.outputs.pipeline_model_pkl_lr_output}}'}, 'inputs': {'data_train': <azure.ai.ml.entities._job.pipeline._io.base.NodeInput object at 0x7fb42dab31f0>}, 'outputs': {'model_output_lr_pickle': <azure.ai.ml.entities._job.pipeline._io.base.NodeOutput object at 0x7fb42dab3100>}, 'component': 'azureml_anonymous:f38d008d-eabd-4d6e-9364-1bf2b967c9de', 'referenced_control_flow_node_instance_id': None, 'kwargs': {'services': None}, 'instance_id': '5d6970b3-e2df-45a9-8cf8-45eb4c31ca4e', 'source': 'REMOTE.WORKSPACE.COMPONENT', 'validate_required_input_not_provided': True, 'limits': None, 'identity': None, 'distribution': None, 'environment_variables': {}, 'environment': None, 'resources': None, 'queue_settings': None, 'swept': False}), 'train_dt_node': Command({'parameters': {}, 'init': False, 'name': 'train_dt_node', 'type': 'command', 'status': None, 'log_files': None, 'description': None, 'tags': {}, 'properties': {}, 'print_as_yaml': True, 'id': None, 'Resource__source_path': None, 'base_path': '/mnt/batch/tasks/shared/LS_root/mounts/clusters/aldunatelipac1/code/Users/aldunatelipac', 'creation_context': None, 'serialize': <msrest.serialization.Serializer object at 0x7fb42dab3220>, 'allowed_keys': {}, 'key_restriction': False, 'logger': <Logger attr_dict (WARNING)>, 'display_name': None, 'experiment_name': None, 'compute': None, 'services': None, 'comment': None, 'job_inputs': {'criterion': 'entropy', 'min_samples_split': '3', 'max_depth': '4', 'data_train': '${{parent.jobs.split_node.outputs.data_train}}'}, 'job_outputs': {'model_output_dt_pickle': '${{parent.outputs.pipeline_model_pkl_dt_output}}'}, 'inputs': {'criterion': <azure.ai.ml.entities._job.pipeline._io.base.NodeInput object at 0x7fb42dab3130>, 'min_samples_split': <azure.ai.ml.entities._job.pipeline._io.base.NodeInput object at 0x7fb42dab2980>, 'max_depth': <azure.ai.ml.entities._job.pipeline._io.base.NodeInput object at 0x7fb42dab2830>, 'data_train': <azure.ai.ml.entities._job.pipeline._io.base.NodeInput object at 0x7fb42dab2d10>}, 'outputs': {'model_output_dt_pickle': <azure.ai.ml.entities._job.pipeline._io.base.NodeOutput object at 0x7fb42dab31c0>}, 'component': 'azureml_anonymous:1e2c5bd5-5b07-435e-a703-79d80dfa2b55', 'referenced_control_flow_node_instance_id': None, 'kwargs': {'services': None}, 'instance_id': '774d4bcf-a6a3-43d3-aac6-1d7a44997eb9', 'source': 'REMOTE.WORKSPACE.COMPONENT', 'validate_required_input_not_provided': True, 'limits': None, 'identity': None, 'distribution': None, 'environment_variables': {}, 'environment': None, 'resources': None, 'queue_settings': None, 'swept': False}), 'score_lr_node': Command({'parameters': {}, 'init': False, 'name': 'score_lr_node', 'type': 'command', 'status': None, 'log_files': None, 'description': None, 'tags': {}, 'properties': {}, 'print_as_yaml': True, 'id': None, 'Resource__source_path': None, 'base_path': '/mnt/batch/tasks/shared/LS_root/mounts/clusters/aldunatelipac1/code/Users/aldunatelipac', 'creation_context': None, 'serialize': <msrest.serialization.Serializer object at 0x7fb42dab3190>, 'allowed_keys': {}, 'key_restriction': False, 'logger': <Logger attr_dict (WARNING)>, 'display_name': None, 'experiment_name': None, 'compute': None, 'services': None, 'comment': None, 'job_inputs': {'model_input': '${{parent.jobs.train_lr_node.outputs.model_output_lr_pickle}}', 'test_data': '${{parent.jobs.split_node.outputs.data_test}}'}, 'job_outputs': {}, 'inputs': {'model_input': <azure.ai.ml.entities._job.pipeline._io.base.NodeInput object at 0x7fb42dab2920>, 'test_data': <azure.ai.ml.entities._job.pipeline._io.base.NodeInput object at 0x7fb42dab3250>}, 'outputs': {}, 'component': 'azureml_anonymous:7955868a-4fe7-4593-bc36-9c186011dcd9', 'referenced_control_flow_node_instance_id': None, 'kwargs': {'services': None}, 'instance_id': 'db52b0dd-aaad-4c2c-9494-d3b30335c065', 'source': 'REMOTE.WORKSPACE.COMPONENT', 'validate_required_input_not_provided': True, 'limits': None, 'identity': None, 'distribution': None, 'environment_variables': {}, 'environment': None, 'resources': None, 'queue_settings': None, 'swept': False}), 'score_dt_node': Command({'parameters': {}, 'init': False, 'name': 'score_dt_node', 'type': 'command', 'status': None, 'log_files': None, 'description': None, 'tags': {}, 'properties': {}, 'print_as_yaml': True, 'id': None, 'Resource__source_path': None, 'base_path': '/mnt/batch/tasks/shared/LS_root/mounts/clusters/aldunatelipac1/code/Users/aldunatelipac', 'creation_context': None, 'serialize': <msrest.serialization.Serializer object at 0x7fb42dab3280>, 'allowed_keys': {}, 'key_restriction': False, 'logger': <Logger attr_dict (WARNING)>, 'display_name': None, 'experiment_name': None, 'compute': None, 'services': None, 'comment': None, 'job_inputs': {'model_input': '${{parent.jobs.train_dt_node.outputs.model_output_dt_pickle}}', 'test_data': '${{parent.jobs.split_node.outputs.data_test}}'}, 'job_outputs': {}, 'inputs': {'model_input': <azure.ai.ml.entities._job.pipeline._io.base.NodeInput object at 0x7fb42dab3310>, 'test_data': <azure.ai.ml.entities._job.pipeline._io.base.NodeInput object at 0x7fb42dab3340>}, 'outputs': {}, 'component': 'azureml_anonymous:7955868a-4fe7-4593-bc36-9c186011dcd9', 'referenced_control_flow_node_instance_id': None, 'kwargs': {'services': None}, 'instance_id': '392ff990-3cd8-4423-b217-aca4cc042230', 'source': 'REMOTE.WORKSPACE.COMPONENT', 'validate_required_input_not_provided': True, 'limits': None, 'identity': None, 'distribution': None, 'environment_variables': {}, 'environment': None, 'resources': None, 'queue_settings': None, 'swept': False}), 'eval_lr_node': Command({'parameters': {}, 'init': False, 'name': 'eval_lr_node', 'type': 'command', 'status': None, 'log_files': None, 'description': None, 'tags': {}, 'properties': {}, 'print_as_yaml': True, 'id': None, 'Resource__source_path': None, 'base_path': '/mnt/batch/tasks/shared/LS_root/mounts/clusters/aldunatelipac1/code/Users/aldunatelipac', 'creation_context': None, 'serialize': <msrest.serialization.Serializer object at 0x7fb42dab2620>, 'allowed_keys': {}, 'key_restriction': False, 'logger': <Logger attr_dict (WARNING)>, 'display_name': None, 'experiment_name': None, 'compute': None, 'services': None, 'comment': None, 'job_inputs': {'scoring_result': '${{parent.jobs.score_lr_node.outputs.score_output}}'}, 'job_outputs': {'eval_output': '${{parent.outputs.pipeline_eval_lr_output}}'}, 'inputs': {'scoring_result': <azure.ai.ml.entities._job.pipeline._io.base.NodeInput object at 0x7fb42dab27a0>}, 'outputs': {'eval_output': <azure.ai.ml.entities._job.pipeline._io.base.NodeOutput object at 0x7fb42dab3370>}, 'component': 'azureml_anonymous:722356bd-1d41-4dc6-8aab-29a5b893796d', 'referenced_control_flow_node_instance_id': None, 'kwargs': {'services': None}, 'instance_id': '7bc6741d-69b3-4669-b5f0-1cbb99a8fdf2', 'source': 'REMOTE.WORKSPACE.COMPONENT', 'validate_required_input_not_provided': True, 'limits': None, 'identity': None, 'distribution': None, 'environment_variables': {}, 'environment': None, 'resources': None, 'queue_settings': None, 'swept': False}), 'eval_dt_node': Command({'parameters': {}, 'init': False, 'name': 'eval_dt_node', 'type': 'command', 'status': None, 'log_files': None, 'description': None, 'tags': {}, 'properties': {}, 'print_as_yaml': True, 'id': None, 'Resource__source_path': None, 'base_path': '/mnt/batch/tasks/shared/LS_root/mounts/clusters/aldunatelipac1/code/Users/aldunatelipac', 'creation_context': None, 'serialize': <msrest.serialization.Serializer object at 0x7fb446ca4400>, 'allowed_keys': {}, 'key_restriction': False, 'logger': <Logger attr_dict (WARNING)>, 'display_name': None, 'experiment_name': None, 'compute': None, 'services': None, 'comment': None, 'job_inputs': {'scoring_result': '${{parent.jobs.score_dt_node.outputs.score_output}}'}, 'job_outputs': {'eval_output': '${{parent.outputs.pipeline_eval_dt_output}}'}, 'inputs': {'scoring_result': <azure.ai.ml.entities._job.pipeline._io.base.NodeInput object at 0x7fb42dab3400>}, 'outputs': {'eval_output': <azure.ai.ml.entities._job.pipeline._io.base.NodeOutput object at 0x7fb42fcf01c0>}, 'component': 'azureml_anonymous:722356bd-1d41-4dc6-8aab-29a5b893796d', 'referenced_control_flow_node_instance_id': None, 'kwargs': {'services': None}, 'instance_id': '72f8f249-9058-4d70-a3ec-f200c2cd28f9', 'source': 'REMOTE.WORKSPACE.COMPONENT', 'validate_required_input_not_provided': True, 'limits': None, 'identity': None, 'distribution': None, 'environment_variables': {}, 'environment': None, 'resources': None, 'queue_settings': None, 'swept': False})}, 'job_types': {'command': 8}, 'job_sources': {'REMOTE.WORKSPACE.COMPONENT': 8}, 'source_job_id': None}), 'type': 'pipeline', 'status': 'Preparing', 'log_files': None, 'name': 'magenta_celery_rsgvqtr2ck', 'description': None, 'tags': {}, 'properties': {'azureml.DevPlatv2': 'true', 'azureml.DatasetAccessMode': 'Asset', 'azureml.runsource': 'azureml.PipelineRun', 'runSource': 'MFE', 'runType': 'HTTP', 'azureml.parameters': '{}', 'azureml.continue_on_step_failure': 'True', 'azureml.continue_on_failed_optional_input': 'True', 'azureml.enforceRerun': 'False', 'azureml.defaultComputeName': 'cpu-cluster', 'azureml.defaultDataStoreName': 'workspaceblobstore', 'azureml.pipelineComponent': 'pipelinerun'}, 'print_as_yaml': True, 'id': '/subscriptions/3deaa453-5a6c-4bcd-85f1-1645c3ccd539/resourceGroups/diplomado_ucb/providers/Microsoft.MachineLearningServices/workspaces/ws-proyecto-2-wp/jobs/magenta_celery_rsgvqtr2ck', 'Resource__source_path': None, 'base_path': '/mnt/batch/tasks/shared/LS_root/mounts/clusters/aldunatelipac1/code/Users/aldunatelipac', 'creation_context': <azure.ai.ml.entities._system_data.SystemData object at 0x7fb42dab27d0>, 'serialize': <msrest.serialization.Serializer object at 0x7fb42dab2c80>, 'display_name': 'water_potability_prediction', 'experiment_name': 'pipeline_water_potability_p2', 'compute': None, 'services': {'Tracking': {'endpoint': 'azureml://eastus.api.azureml.ms/mlflow/v1.0/subscriptions/3deaa453-5a6c-4bcd-85f1-1645c3ccd539/resourceGroups/diplomado_ucb/providers/Microsoft.MachineLearningServices/workspaces/ws-proyecto-2-wp?', 'type': 'Tracking'}, 'Studio': {'endpoint': 'https://ml.azure.com/runs/magenta_celery_rsgvqtr2ck?wsid=/subscriptions/3deaa453-5a6c-4bcd-85f1-1645c3ccd539/resourcegroups/diplomado_ucb/workspaces/ws-proyecto-2-wp&tid=192a4dcb-d77a-44ee-815c-5ca0ba5c5471', 'type': 'Studio'}}, 'settings': {}, 'identity': None, 'default_code': None, 'default_environment': None})",
            "text/html": "<table style=\"width:100%\"><tr><th>Experiment</th><th>Name</th><th>Type</th><th>Status</th><th>Details Page</th></tr><tr><td>pipeline_water_potability_p2</td><td>magenta_celery_rsgvqtr2ck</td><td>pipeline</td><td>Preparing</td><td><a href=\"https://ml.azure.com/runs/magenta_celery_rsgvqtr2ck?wsid=/subscriptions/3deaa453-5a6c-4bcd-85f1-1645c3ccd539/resourcegroups/diplomado_ucb/workspaces/ws-proyecto-2-wp&amp;tid=192a4dcb-d77a-44ee-815c-5ca0ba5c5471\" target=\"_blank\" rel=\"noopener\">Link to Azure Machine Learning studio</a></td></tr></table>"
          },
          "metadata": {}
        }
      ],
      "execution_count": 11,
      "metadata": {
        "jupyter": {
          "source_hidden": false,
          "outputs_hidden": false
        },
        "nteract": {
          "transient": {
            "deleting": false
          }
        },
        "gather": {
          "logged": 1699445980054
        }
      }
    },
    {
      "cell_type": "code",
      "source": [
        "# wait until the job completes\n",
        "ml_client.jobs.stream(pipeline_job.name)"
      ],
      "outputs": [
        {
          "output_type": "stream",
          "name": "stdout",
          "text": "RunId: magenta_celery_rsgvqtr2ck\nWeb View: https://ml.azure.com/runs/magenta_celery_rsgvqtr2ck?wsid=/subscriptions/3deaa453-5a6c-4bcd-85f1-1645c3ccd539/resourcegroups/diplomado_ucb/workspaces/ws-proyecto-2-wp\n\nExecution Summary\n=================\nRunId: magenta_celery_rsgvqtr2ck\nWeb View: https://ml.azure.com/runs/magenta_celery_rsgvqtr2ck?wsid=/subscriptions/3deaa453-5a6c-4bcd-85f1-1645c3ccd539/resourcegroups/diplomado_ucb/workspaces/ws-proyecto-2-wp\n\n"
        }
      ],
      "execution_count": 12,
      "metadata": {
        "jupyter": {
          "source_hidden": false,
          "outputs_hidden": false
        },
        "nteract": {
          "transient": {
            "deleting": false
          }
        },
        "gather": {
          "logged": 1699447496108
        }
      }
    },
    {
      "cell_type": "code",
      "source": [
        "# Download all the outputs of the job\n",
        "output = ml_client.jobs.download(name=pipeline_job.name, download_path='./pipeline_output', all=True)"
      ],
      "outputs": [
        {
          "output_type": "stream",
          "name": "stderr",
          "text": "Downloading artifact azureml://subscriptions/3deaa453-5a6c-4bcd-85f1-1645c3ccd539/resourcegroups/diplomado_ucb/workspaces/ws-proyecto-2-wp/datastores/workspaceblobstore/paths/azureml/050f908a-7e6b-4965-b02e-fa9f798f2b95/pairplot_fig/ to pipeline_output/named-outputs/pipeline_fill_pairplot_output\nDownloading artifact azureml://subscriptions/3deaa453-5a6c-4bcd-85f1-1645c3ccd539/resourcegroups/diplomado_ucb/workspaces/ws-proyecto-2-wp/datastores/workspaceblobstore/paths/azureml/b32f90fa-1317-4f22-8ffa-7334b31a65f3/model_output_lr_pickle/ to pipeline_output/named-outputs/pipeline_model_pkl_lr_output\nDownloading artifact azureml://subscriptions/3deaa453-5a6c-4bcd-85f1-1645c3ccd539/resourcegroups/diplomado_ucb/workspaces/ws-proyecto-2-wp/datastores/workspaceblobstore/paths/azureml/e914f517-b280-4be0-a0fd-d4291fcb8f2f/model_output_dt_pickle/ to pipeline_output/named-outputs/pipeline_model_pkl_dt_output\nDownloading artifact azureml://subscriptions/3deaa453-5a6c-4bcd-85f1-1645c3ccd539/resourcegroups/diplomado_ucb/workspaces/ws-proyecto-2-wp/datastores/workspaceblobstore/paths/azureml/7cda31af-ddfe-4c30-8233-b4bf916c5467/eval_output/ to pipeline_output/named-outputs/pipeline_eval_lr_output\nDownloading artifact azureml://subscriptions/3deaa453-5a6c-4bcd-85f1-1645c3ccd539/resourcegroups/diplomado_ucb/workspaces/ws-proyecto-2-wp/datastores/workspaceblobstore/paths/azureml/c5d0e08b-0d86-4861-922b-88ce25790523/eval_output/ to pipeline_output/named-outputs/pipeline_eval_dt_output\nDownloading artifact azureml://datastores/workspaceartifactstore/paths/ExperimentRun/dcid.magenta_celery_rsgvqtr2ck/ to pipeline_output/artifacts\n"
        }
      ],
      "execution_count": 13,
      "metadata": {
        "jupyter": {
          "source_hidden": false,
          "outputs_hidden": false
        },
        "nteract": {
          "transient": {
            "deleting": false
          }
        },
        "gather": {
          "logged": 1699447504961
        }
      }
    },
    {
      "cell_type": "code",
      "source": [],
      "outputs": [],
      "execution_count": null,
      "metadata": {
        "jupyter": {
          "source_hidden": false,
          "outputs_hidden": false
        },
        "nteract": {
          "transient": {
            "deleting": false
          }
        }
      }
    }
  ],
  "metadata": {
    "kernelspec": {
      "name": "python310-sdkv2",
      "language": "python",
      "display_name": "Python 3.10 - SDK v2"
    },
    "language_info": {
      "name": "python",
      "version": "3.10.11",
      "mimetype": "text/x-python",
      "codemirror_mode": {
        "name": "ipython",
        "version": 3
      },
      "pygments_lexer": "ipython3",
      "nbconvert_exporter": "python",
      "file_extension": ".py"
    },
    "microsoft": {
      "ms_spell_check": {
        "ms_spell_check_language": "en"
      },
      "host": {
        "AzureML": {
          "notebookHasBeenCompleted": true
        }
      }
    },
    "kernel_info": {
      "name": "python310-sdkv2"
    },
    "nteract": {
      "version": "nteract-front-end@1.0.0"
    }
  },
  "nbformat": 4,
  "nbformat_minor": 2
}