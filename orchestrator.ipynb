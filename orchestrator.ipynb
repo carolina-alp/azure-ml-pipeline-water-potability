{
  "cells": [
    {
      "cell_type": "code",
      "source": [
        "from azure.ai.ml import load_component\n",
        "from azure.ai.ml.dsl import pipeline\n",
        "from azure.ai.ml import MLClient, Input\n",
        "from azure.identity import DefaultAzureCredential, EnvironmentCredential\n",
        "from azure.ai.ml.entities import AmlCompute\n",
        "import os"
      ],
      "outputs": [],
      "execution_count": 1,
      "metadata": {
        "gather": {
          "logged": 1699408546953
        }
      }
    },
    {
      "cell_type": "code",
      "source": [
        "# Get a handle to workspace\n",
        "credential = DefaultAzureCredential()\n",
        "ml_client = MLClient.from_config(credential=credential)"
      ],
      "outputs": [
        {
          "output_type": "stream",
          "name": "stderr",
          "text": "Found the config file in: /config.json\n"
        }
      ],
      "execution_count": 2,
      "metadata": {
        "jupyter": {
          "source_hidden": false,
          "outputs_hidden": false
        },
        "nteract": {
          "transient": {
            "deleting": false
          }
        },
        "gather": {
          "logged": 1699408548415
        }
      }
    },
    {
      "cell_type": "markdown",
      "source": [
        "#### **Crear de environment**"
      ],
      "metadata": {
        "nteract": {
          "transient": {
            "deleting": false
          }
        }
      }
    },
    {
      "cell_type": "code",
      "source": [
        "# Create environment\n",
        "environment_path = (\".\")\n",
        "\n",
        "environment_name = \"project-Environment\"\n",
        "try:\n",
        "    ml_client.environments.get(name=environment_name, version=\"1\")\n",
        "except Exception:\n",
        "    print(f\"Cannot find environment {environment_name} in workspace, creating it\")\n",
        "    from azure.ai.ml.entities import Environment\n",
        "\n",
        "    environment = Environment(\n",
        "        image=\"mcr.microsoft.com/azureml/openmpi3.1.2-ubuntu18.04:20220303.v1\",\n",
        "        conda_file=f\"{environment_path}/environment/conda_envs/python-project-environment.yaml\",\n",
        "        name=environment_name,\n",
        "        version=\"1\",\n",
        "        description=\"Custom environment for eda\",\n",
        "    )\n",
        "    ml_client.environments.create_or_update(environment)"
      ],
      "outputs": [
        {
          "output_type": "stream",
          "name": "stdout",
          "text": "Cannot find environment project-Environment in workspace, creating it\n"
        }
      ],
      "execution_count": 3,
      "metadata": {
        "jupyter": {
          "source_hidden": false,
          "outputs_hidden": false
        },
        "nteract": {
          "transient": {
            "deleting": false
          }
        },
        "gather": {
          "logged": 1699408571138
        }
      }
    },
    {
      "cell_type": "code",
      "source": [
        "# Define a comput\n",
        "def get_comput_target(ml_client, name=\"cpu-cluster\", family='Standard_D2_v2'):\n",
        "    cpu_compute_target = name\n",
        "    \n",
        "    try:\n",
        "        # let's see if the compute target already exists\n",
        "        cpu_cluster = ml_client.compute.get(cpu_compute_target)\n",
        "    except Exception:\n",
        "        cpu_cluster = AmlCompute(\n",
        "            name=cpu_compute_target,\n",
        "            type=\"amlcompute\",\n",
        "            size=family,\n",
        "            min_instances=0,\n",
        "            max_instances=2,\n",
        "            idle_time_before_scale_down=180,\n",
        "            tier=\"Dedicated\",\n",
        "        )\n",
        "    \n",
        "        cpu_cluster = ml_client.compute.begin_create_or_update(cpu_cluster).result()"
      ],
      "outputs": [],
      "execution_count": 4,
      "metadata": {
        "jupyter": {
          "source_hidden": false,
          "outputs_hidden": false
        },
        "nteract": {
          "transient": {
            "deleting": false
          }
        },
        "gather": {
          "logged": 1699408571286
        }
      }
    },
    {
      "cell_type": "code",
      "source": [
        "compute_target = get_comput_target(ml_client)"
      ],
      "outputs": [],
      "execution_count": 5,
      "metadata": {
        "jupyter": {
          "source_hidden": false,
          "outputs_hidden": false
        },
        "nteract": {
          "transient": {
            "deleting": false
          }
        },
        "gather": {
          "logged": 1699408602051
        }
      }
    },
    {
      "cell_type": "code",
      "source": [
        "# Components\n",
        "fill_eda_component = load_component(source=\"./fill_eda-component/fill_eda.yml\")\n",
        "split_component = load_component(source=\"./split-component/split.yml\")\n",
        "train_lr_component = load_component(source=\"./train_LogisticRegression_component/train_LogisticRegression.yml\")\n",
        "train_dt_component = load_component(source=\"./train_DecisionTree_component/train_DecisionTree.yml\")\n",
        "score_component = load_component(source=\"./score-component/score.yml\")\n",
        "eval_component = load_component(source=\"./eval-component/eval.yml\")"
      ],
      "outputs": [],
      "execution_count": 6,
      "metadata": {
        "jupyter": {
          "source_hidden": false,
          "outputs_hidden": false
        },
        "nteract": {
          "transient": {
            "deleting": false
          }
        },
        "gather": {
          "logged": 1699408602277
        }
      }
    },
    {
      "cell_type": "code",
      "source": [
        "# define a pipeline: Fill, split, train LR, train DT, score, eval\n",
        "@pipeline(\n",
        "    default_compute='cpu-cluster',\n",
        ")\n",
        "def water_potability_prediction(pipeline_input_data):     \n",
        "        \n",
        "    fill_node=fill_eda_component(\n",
        "        data_set = pipeline_input_data,\n",
        "    )    \n",
        "\n",
        "    split_node=split_component(\n",
        "        data_set = fill_node.outputs.data_clean,\n",
        "    )\n",
        "    \n",
        "    train_lr_node=train_lr_component(\n",
        "        data_train = split_node.outputs.data_train,\n",
        "    )\n",
        "\n",
        "    train_dt_node=train_dt_component(\n",
        "        data_train = split_node.outputs.data_train,\n",
        "        criterion = \"entropy\", \n",
        "        min_samples_split= 3, \n",
        "        max_depth=4,\n",
        "    )        \n",
        "\n",
        "    score_lr_node=score_component(\n",
        "        model_input=train_lr_node.outputs.model_output_lr_pickle,\n",
        "        test_data=split_node.outputs.data_test,\n",
        "    )\n",
        "\n",
        "    score_dt_node=score_component(\n",
        "        model_input=train_dt_node.outputs.model_output_dt_pickle,\n",
        "        test_data=split_node.outputs.data_test,\n",
        "    )\n",
        "\n",
        "    eval_lr_node=eval_component(\n",
        "        scoring_result=score_lr_node.outputs.score_output\n",
        "    )\n",
        "\n",
        "    eval_dt_node = eval_component(\n",
        "        scoring_result=score_dt_node.outputs.score_output\n",
        "    )\n",
        "\n",
        "    return {\n",
        "        \"pipeline_fill_pairplot_output\" : fill_node.outputs.pairplot_fig,  \n",
        "        \"pipeline_model_pkl_lr_output\" : train_lr_node.outputs.model_output_lr_pickle,     \n",
        "        \"pipeline_model_pkl_dt_output\" : train_dt_node.outputs.model_output_dt_pickle,\n",
        "        \"pipeline_eval_lr_output\": eval_lr_node.outputs.eval_output,\n",
        "        \"pipeline_eval_dt_output\": eval_dt_node.outputs.eval_output\n",
        "    }"
      ],
      "outputs": [],
      "execution_count": 8,
      "metadata": {
        "jupyter": {
          "source_hidden": false,
          "outputs_hidden": false
        },
        "nteract": {
          "transient": {
            "deleting": false
          }
        },
        "gather": {
          "logged": 1699408650174
        }
      }
    },
    {
      "cell_type": "code",
      "source": [
        "# create a pipeline\n",
        "water_potability_ds =  Input(\n",
        "            type=\"uri_file\",\n",
        "            path=\"azureml://subscriptions/3deaa453-5a6c-4bcd-85f1-1645c3ccd539/resourcegroups/diplomado_ucb/workspaces/ws-proyecto-2/datastores/workspaceblobstore/paths/UI/2023-11-08_015444_UTC/water_potability_ds.csv\",\n",
        "        )\n",
        "pipeline_job = water_potability_prediction(pipeline_input_data=water_potability_ds)"
      ],
      "outputs": [],
      "execution_count": 9,
      "metadata": {
        "jupyter": {
          "source_hidden": false,
          "outputs_hidden": false
        },
        "nteract": {
          "transient": {
            "deleting": false
          }
        },
        "gather": {
          "logged": 1699408651544
        }
      }
    },
    {
      "cell_type": "code",
      "source": [
        "pipeline_job = ml_client.jobs.create_or_update(\n",
        "    pipeline_job, experiment_name=\"pipeline_water_potability_p2\"\n",
        ")\n",
        "pipeline_job"
      ],
      "outputs": [
        {
          "output_type": "stream",
          "name": "stderr",
          "text": "Class AutoDeleteSettingSchema: This is an experimental class, and may change at any time. Please see https://aka.ms/azuremlexperimental for more information.\nClass AutoDeleteConditionSchema: This is an experimental class, and may change at any time. Please see https://aka.ms/azuremlexperimental for more information.\nClass BaseAutoDeleteSettingSchema: This is an experimental class, and may change at any time. Please see https://aka.ms/azuremlexperimental for more information.\nClass IntellectualPropertySchema: This is an experimental class, and may change at any time. Please see https://aka.ms/azuremlexperimental for more information.\nClass ProtectionLevelSchema: This is an experimental class, and may change at any time. Please see https://aka.ms/azuremlexperimental for more information.\nClass BaseIntellectualPropertySchema: This is an experimental class, and may change at any time. Please see https://aka.ms/azuremlexperimental for more information.\n\u001b[32mUploading fill_eda_src (0.0 MBs): 100%|██████████| 1096/1096 [00:00<00:00, 124944.48it/s]\n\u001b[39m\n\n\u001b[32mUploading split_src (0.0 MBs): 100%|██████████| 1044/1044 [00:00<00:00, 94889.23it/s]\n\u001b[39m\n\n\u001b[32mUploading train_LogisticRegression_src (0.0 MBs): 100%|██████████| 1070/1070 [00:00<00:00, 84648.71it/s]\n\u001b[39m\n\n\u001b[32mUploading train_DecisionTree_src (0.0 MBs): 100%|██████████| 1484/1484 [00:00<00:00, 81246.13it/s]\n\u001b[39m\n\n\u001b[32mUploading score_src (0.0 MBs): 100%|██████████| 1112/1112 [00:00<00:00, 69030.80it/s]\n\u001b[39m\n\n\u001b[32mUploading eval_src (0.0 MBs): 100%|██████████| 873/873 [00:00<00:00, 48192.62it/s]\n\u001b[39m\n\n"
        },
        {
          "output_type": "execute_result",
          "execution_count": 10,
          "data": {
            "text/plain": "PipelineJob({'inputs': {'pipeline_input_data': <azure.ai.ml.entities._job.pipeline._io.base.PipelineInput object at 0x7fc9effffdc0>}, 'outputs': {'pipeline_fill_pairplot_output': <azure.ai.ml.entities._job.pipeline._io.base.PipelineOutput object at 0x7fc9effffd90>, 'pipeline_model_pkl_lr_output': <azure.ai.ml.entities._job.pipeline._io.base.PipelineOutput object at 0x7fc9effffe20>, 'pipeline_model_pkl_dt_output': <azure.ai.ml.entities._job.pipeline._io.base.PipelineOutput object at 0x7fc9effffe50>, 'pipeline_eval_lr_output': <azure.ai.ml.entities._job.pipeline._io.base.PipelineOutput object at 0x7fc9effffe80>, 'pipeline_eval_dt_output': <azure.ai.ml.entities._job.pipeline._io.base.PipelineOutput object at 0x7fc9effffeb0>}, 'jobs': {}, 'component': PipelineComponent({'intellectual_property': None, 'auto_increment_version': False, 'source': 'REMOTE.WORKSPACE.JOB', 'is_anonymous': True, 'auto_delete_setting': None, 'name': 'azureml_anonymous', 'description': None, 'tags': {}, 'properties': {}, 'print_as_yaml': True, 'id': None, 'Resource__source_path': None, 'base_path': '/mnt/batch/tasks/shared/LS_root/mounts/clusters/aldunatelipac1/code/Users/aldunatelipac', 'creation_context': None, 'serialize': <msrest.serialization.Serializer object at 0x7fc9effff9a0>, 'version': '1', 'latest_version': None, 'schema': None, 'type': 'pipeline', 'display_name': 'water_potability_prediction', 'is_deterministic': None, 'inputs': {'pipeline_input_data': {}}, 'outputs': {'pipeline_fill_pairplot_output': {}, 'pipeline_model_pkl_lr_output': {}, 'pipeline_model_pkl_dt_output': {}, 'pipeline_eval_lr_output': {}, 'pipeline_eval_dt_output': {}}, 'yaml_str': None, 'other_parameter': {}, 'jobs': {'fill_node': Command({'parameters': {}, 'init': False, 'name': 'fill_node', 'type': 'command', 'status': None, 'log_files': None, 'description': None, 'tags': {}, 'properties': {}, 'print_as_yaml': True, 'id': None, 'Resource__source_path': None, 'base_path': '/mnt/batch/tasks/shared/LS_root/mounts/clusters/aldunatelipac1/code/Users/aldunatelipac', 'creation_context': None, 'serialize': <msrest.serialization.Serializer object at 0x7fc9effffa00>, 'allowed_keys': {}, 'key_restriction': False, 'logger': <Logger attr_dict (WARNING)>, 'display_name': None, 'experiment_name': None, 'compute': None, 'services': None, 'comment': None, 'job_inputs': {'data_set': '${{parent.inputs.pipeline_input_data}}'}, 'job_outputs': {'pairplot_fig': '${{parent.outputs.pipeline_fill_pairplot_output}}'}, 'inputs': {'data_set': <azure.ai.ml.entities._job.pipeline._io.base.NodeInput object at 0x7fc9efffffa0>}, 'outputs': {'pairplot_fig': <azure.ai.ml.entities._job.pipeline._io.base.NodeOutput object at 0x7fc9effffaf0>}, 'component': 'azureml_anonymous:5db0e41e-eb61-497c-8fa3-f5bd833254c9', 'referenced_control_flow_node_instance_id': None, 'kwargs': {'services': None}, 'instance_id': '6213d5b0-c54d-464a-9dc7-c8cfb6db0fdd', 'source': 'REMOTE.WORKSPACE.COMPONENT', 'validate_required_input_not_provided': True, 'limits': None, 'identity': None, 'distribution': None, 'environment_variables': {}, 'environment': None, 'resources': None, 'queue_settings': None, 'swept': False}), 'split_node': Command({'parameters': {}, 'init': False, 'name': 'split_node', 'type': 'command', 'status': None, 'log_files': None, 'description': None, 'tags': {}, 'properties': {}, 'print_as_yaml': True, 'id': None, 'Resource__source_path': None, 'base_path': '/mnt/batch/tasks/shared/LS_root/mounts/clusters/aldunatelipac1/code/Users/aldunatelipac', 'creation_context': None, 'serialize': <msrest.serialization.Serializer object at 0x7fc9efffff40>, 'allowed_keys': {}, 'key_restriction': False, 'logger': <Logger attr_dict (WARNING)>, 'display_name': None, 'experiment_name': None, 'compute': None, 'services': None, 'comment': None, 'job_inputs': {'data_set': '${{parent.jobs.fill_node.outputs.data_clean}}'}, 'job_outputs': {}, 'inputs': {'data_set': <azure.ai.ml.entities._job.pipeline._io.base.NodeInput object at 0x7fc9effff8b0>}, 'outputs': {}, 'component': 'azureml_anonymous:ed0bc995-2996-485e-acd7-06e0f7191397', 'referenced_control_flow_node_instance_id': None, 'kwargs': {'services': None}, 'instance_id': 'ce74a34a-5ae4-4dcd-a446-cbccc5e8ef25', 'source': 'REMOTE.WORKSPACE.COMPONENT', 'validate_required_input_not_provided': True, 'limits': None, 'identity': None, 'distribution': None, 'environment_variables': {}, 'environment': None, 'resources': None, 'queue_settings': None, 'swept': False}), 'train_lr_node': Command({'parameters': {}, 'init': False, 'name': 'train_lr_node', 'type': 'command', 'status': None, 'log_files': None, 'description': None, 'tags': {}, 'properties': {}, 'print_as_yaml': True, 'id': None, 'Resource__source_path': None, 'base_path': '/mnt/batch/tasks/shared/LS_root/mounts/clusters/aldunatelipac1/code/Users/aldunatelipac', 'creation_context': None, 'serialize': <msrest.serialization.Serializer object at 0x7fc9effff910>, 'allowed_keys': {}, 'key_restriction': False, 'logger': <Logger attr_dict (WARNING)>, 'display_name': None, 'experiment_name': None, 'compute': None, 'services': None, 'comment': None, 'job_inputs': {'data_train': '${{parent.jobs.split_node.outputs.data_train}}'}, 'job_outputs': {'model_output_lr_pickle': '${{parent.outputs.pipeline_model_pkl_lr_output}}'}, 'inputs': {'data_train': <azure.ai.ml.entities._job.pipeline._io.base.NodeInput object at 0x7fc9effffac0>}, 'outputs': {'model_output_lr_pickle': <azure.ai.ml.entities._job.pipeline._io.base.NodeOutput object at 0x7fc9effffa60>}, 'component': 'azureml_anonymous:0201c211-0129-4de9-8e0c-1946724d9c78', 'referenced_control_flow_node_instance_id': None, 'kwargs': {'services': None}, 'instance_id': '284fa3c1-59cd-4acf-a4aa-33bb091988c4', 'source': 'REMOTE.WORKSPACE.COMPONENT', 'validate_required_input_not_provided': True, 'limits': None, 'identity': None, 'distribution': None, 'environment_variables': {}, 'environment': None, 'resources': None, 'queue_settings': None, 'swept': False}), 'train_dt_node': Command({'parameters': {}, 'init': False, 'name': 'train_dt_node', 'type': 'command', 'status': None, 'log_files': None, 'description': None, 'tags': {}, 'properties': {}, 'print_as_yaml': True, 'id': None, 'Resource__source_path': None, 'base_path': '/mnt/batch/tasks/shared/LS_root/mounts/clusters/aldunatelipac1/code/Users/aldunatelipac', 'creation_context': None, 'serialize': <msrest.serialization.Serializer object at 0x7fc9efe443a0>, 'allowed_keys': {}, 'key_restriction': False, 'logger': <Logger attr_dict (WARNING)>, 'display_name': None, 'experiment_name': None, 'compute': None, 'services': None, 'comment': None, 'job_inputs': {'criterion': 'entropy', 'min_samples_split': '3', 'max_depth': '4', 'data_train': '${{parent.jobs.split_node.outputs.data_train}}'}, 'job_outputs': {'model_output_dt_pickle': '${{parent.outputs.pipeline_model_pkl_dt_output}}'}, 'inputs': {'criterion': <azure.ai.ml.entities._job.pipeline._io.base.NodeInput object at 0x7fc9efe440d0>, 'min_samples_split': <azure.ai.ml.entities._job.pipeline._io.base.NodeInput object at 0x7fc9efe44040>, 'max_depth': <azure.ai.ml.entities._job.pipeline._io.base.NodeInput object at 0x7fc9efe44340>, 'data_train': <azure.ai.ml.entities._job.pipeline._io.base.NodeInput object at 0x7fc9efe44430>}, 'outputs': {'model_output_dt_pickle': <azure.ai.ml.entities._job.pipeline._io.base.NodeOutput object at 0x7fc9effffb80>}, 'component': 'azureml_anonymous:cf7420fd-b198-4ca0-a077-c9daff32eef4', 'referenced_control_flow_node_instance_id': None, 'kwargs': {'services': None}, 'instance_id': 'a14707e3-9ae3-42fb-aa81-42fadec56f1a', 'source': 'REMOTE.WORKSPACE.COMPONENT', 'validate_required_input_not_provided': True, 'limits': None, 'identity': None, 'distribution': None, 'environment_variables': {}, 'environment': None, 'resources': None, 'queue_settings': None, 'swept': False}), 'score_lr_node': Command({'parameters': {}, 'init': False, 'name': 'score_lr_node', 'type': 'command', 'status': None, 'log_files': None, 'description': None, 'tags': {}, 'properties': {}, 'print_as_yaml': True, 'id': None, 'Resource__source_path': None, 'base_path': '/mnt/batch/tasks/shared/LS_root/mounts/clusters/aldunatelipac1/code/Users/aldunatelipac', 'creation_context': None, 'serialize': <msrest.serialization.Serializer object at 0x7fc9efe44370>, 'allowed_keys': {}, 'key_restriction': False, 'logger': <Logger attr_dict (WARNING)>, 'display_name': None, 'experiment_name': None, 'compute': None, 'services': None, 'comment': None, 'job_inputs': {'model_input': '${{parent.jobs.train_lr_node.outputs.model_output_lr_pickle}}', 'test_data': '${{parent.jobs.split_node.outputs.data_test}}'}, 'job_outputs': {}, 'inputs': {'model_input': <azure.ai.ml.entities._job.pipeline._io.base.NodeInput object at 0x7fc9efe44520>, 'test_data': <azure.ai.ml.entities._job.pipeline._io.base.NodeInput object at 0x7fc9efe44400>}, 'outputs': {}, 'component': 'azureml_anonymous:cd447dfc-c8a1-493b-b866-c808145152b3', 'referenced_control_flow_node_instance_id': None, 'kwargs': {'services': None}, 'instance_id': '9d944f21-7dca-4e26-a4ef-5b9f9f8d99b6', 'source': 'REMOTE.WORKSPACE.COMPONENT', 'validate_required_input_not_provided': True, 'limits': None, 'identity': None, 'distribution': None, 'environment_variables': {}, 'environment': None, 'resources': None, 'queue_settings': None, 'swept': False}), 'score_dt_node': Command({'parameters': {}, 'init': False, 'name': 'score_dt_node', 'type': 'command', 'status': None, 'log_files': None, 'description': None, 'tags': {}, 'properties': {}, 'print_as_yaml': True, 'id': None, 'Resource__source_path': None, 'base_path': '/mnt/batch/tasks/shared/LS_root/mounts/clusters/aldunatelipac1/code/Users/aldunatelipac', 'creation_context': None, 'serialize': <msrest.serialization.Serializer object at 0x7fc9efe44460>, 'allowed_keys': {}, 'key_restriction': False, 'logger': <Logger attr_dict (WARNING)>, 'display_name': None, 'experiment_name': None, 'compute': None, 'services': None, 'comment': None, 'job_inputs': {'model_input': '${{parent.jobs.train_dt_node.outputs.model_output_dt_pickle}}', 'test_data': '${{parent.jobs.split_node.outputs.data_test}}'}, 'job_outputs': {}, 'inputs': {'model_input': <azure.ai.ml.entities._job.pipeline._io.base.NodeInput object at 0x7fc9efe444c0>, 'test_data': <azure.ai.ml.entities._job.pipeline._io.base.NodeInput object at 0x7fc9efe444f0>}, 'outputs': {}, 'component': 'azureml_anonymous:cd447dfc-c8a1-493b-b866-c808145152b3', 'referenced_control_flow_node_instance_id': None, 'kwargs': {'services': None}, 'instance_id': 'fd340558-bba4-40c0-9f0b-68ae00fc0436', 'source': 'REMOTE.WORKSPACE.COMPONENT', 'validate_required_input_not_provided': True, 'limits': None, 'identity': None, 'distribution': None, 'environment_variables': {}, 'environment': None, 'resources': None, 'queue_settings': None, 'swept': False}), 'eval_lr_node': Command({'parameters': {}, 'init': False, 'name': 'eval_lr_node', 'type': 'command', 'status': None, 'log_files': None, 'description': None, 'tags': {}, 'properties': {}, 'print_as_yaml': True, 'id': None, 'Resource__source_path': None, 'base_path': '/mnt/batch/tasks/shared/LS_root/mounts/clusters/aldunatelipac1/code/Users/aldunatelipac', 'creation_context': None, 'serialize': <msrest.serialization.Serializer object at 0x7fc9efe44550>, 'allowed_keys': {}, 'key_restriction': False, 'logger': <Logger attr_dict (WARNING)>, 'display_name': None, 'experiment_name': None, 'compute': None, 'services': None, 'comment': None, 'job_inputs': {'scoring_result': '${{parent.jobs.score_lr_node.outputs.score_output}}'}, 'job_outputs': {'eval_output': '${{parent.outputs.pipeline_eval_lr_output}}'}, 'inputs': {'scoring_result': <azure.ai.ml.entities._job.pipeline._io.base.NodeInput object at 0x7fc9efe445b0>}, 'outputs': {'eval_output': <azure.ai.ml.entities._job.pipeline._io.base.NodeOutput object at 0x7fc9efe44580>}, 'component': 'azureml_anonymous:2f17d178-52fd-4b8e-8c18-0c3585480f8f', 'referenced_control_flow_node_instance_id': None, 'kwargs': {'services': None}, 'instance_id': '502d7ee5-b619-43e0-bc63-b6360bf437d9', 'source': 'REMOTE.WORKSPACE.COMPONENT', 'validate_required_input_not_provided': True, 'limits': None, 'identity': None, 'distribution': None, 'environment_variables': {}, 'environment': None, 'resources': None, 'queue_settings': None, 'swept': False}), 'eval_dt_node': Command({'parameters': {}, 'init': False, 'name': 'eval_dt_node', 'type': 'command', 'status': None, 'log_files': None, 'description': None, 'tags': {}, 'properties': {}, 'print_as_yaml': True, 'id': None, 'Resource__source_path': None, 'base_path': '/mnt/batch/tasks/shared/LS_root/mounts/clusters/aldunatelipac1/code/Users/aldunatelipac', 'creation_context': None, 'serialize': <msrest.serialization.Serializer object at 0x7fca079ec3d0>, 'allowed_keys': {}, 'key_restriction': False, 'logger': <Logger attr_dict (WARNING)>, 'display_name': None, 'experiment_name': None, 'compute': None, 'services': None, 'comment': None, 'job_inputs': {'scoring_result': '${{parent.jobs.score_dt_node.outputs.score_output}}'}, 'job_outputs': {'eval_output': '${{parent.outputs.pipeline_eval_dt_output}}'}, 'inputs': {'scoring_result': <azure.ai.ml.entities._job.pipeline._io.base.NodeInput object at 0x7fc9efffff70>}, 'outputs': {'eval_output': <azure.ai.ml.entities._job.pipeline._io.base.NodeOutput object at 0x7fca04b32e00>}, 'component': 'azureml_anonymous:2f17d178-52fd-4b8e-8c18-0c3585480f8f', 'referenced_control_flow_node_instance_id': None, 'kwargs': {'services': None}, 'instance_id': '2b74501b-2d8c-4c5a-93ff-fdf58dd6a5a8', 'source': 'REMOTE.WORKSPACE.COMPONENT', 'validate_required_input_not_provided': True, 'limits': None, 'identity': None, 'distribution': None, 'environment_variables': {}, 'environment': None, 'resources': None, 'queue_settings': None, 'swept': False})}, 'job_types': {'command': 8}, 'job_sources': {'REMOTE.WORKSPACE.COMPONENT': 8}, 'source_job_id': None}), 'type': 'pipeline', 'status': 'Preparing', 'log_files': None, 'name': 'blue_boniato_4p4pjkxgc8', 'description': None, 'tags': {}, 'properties': {'azureml.DevPlatv2': 'true', 'azureml.DatasetAccessMode': 'Asset', 'azureml.runsource': 'azureml.PipelineRun', 'runSource': 'MFE', 'runType': 'HTTP', 'azureml.parameters': '{}', 'azureml.continue_on_step_failure': 'True', 'azureml.continue_on_failed_optional_input': 'True', 'azureml.enforceRerun': 'False', 'azureml.defaultComputeName': 'cpu-cluster', 'azureml.defaultDataStoreName': 'workspaceblobstore', 'azureml.pipelineComponent': 'pipelinerun'}, 'print_as_yaml': True, 'id': '/subscriptions/3deaa453-5a6c-4bcd-85f1-1645c3ccd539/resourceGroups/diplomado_ucb/providers/Microsoft.MachineLearningServices/workspaces/ws-proyecto-2/jobs/blue_boniato_4p4pjkxgc8', 'Resource__source_path': None, 'base_path': '/mnt/batch/tasks/shared/LS_root/mounts/clusters/aldunatelipac1/code/Users/aldunatelipac', 'creation_context': <azure.ai.ml.entities._system_data.SystemData object at 0x7fc9effffc10>, 'serialize': <msrest.serialization.Serializer object at 0x7fc9effffee0>, 'display_name': 'water_potability_prediction', 'experiment_name': 'pipeline_water_potability_p2', 'compute': None, 'services': {'Tracking': {'endpoint': 'azureml://eastus.api.azureml.ms/mlflow/v1.0/subscriptions/3deaa453-5a6c-4bcd-85f1-1645c3ccd539/resourceGroups/diplomado_ucb/providers/Microsoft.MachineLearningServices/workspaces/ws-proyecto-2?', 'type': 'Tracking'}, 'Studio': {'endpoint': 'https://ml.azure.com/runs/blue_boniato_4p4pjkxgc8?wsid=/subscriptions/3deaa453-5a6c-4bcd-85f1-1645c3ccd539/resourcegroups/diplomado_ucb/workspaces/ws-proyecto-2&tid=192a4dcb-d77a-44ee-815c-5ca0ba5c5471', 'type': 'Studio'}}, 'settings': {}, 'identity': None, 'default_code': None, 'default_environment': None})",
            "text/html": "<table style=\"width:100%\"><tr><th>Experiment</th><th>Name</th><th>Type</th><th>Status</th><th>Details Page</th></tr><tr><td>pipeline_water_potability_p2</td><td>blue_boniato_4p4pjkxgc8</td><td>pipeline</td><td>Preparing</td><td><a href=\"https://ml.azure.com/runs/blue_boniato_4p4pjkxgc8?wsid=/subscriptions/3deaa453-5a6c-4bcd-85f1-1645c3ccd539/resourcegroups/diplomado_ucb/workspaces/ws-proyecto-2&amp;tid=192a4dcb-d77a-44ee-815c-5ca0ba5c5471\" target=\"_blank\" rel=\"noopener\">Link to Azure Machine Learning studio</a></td></tr></table>"
          },
          "metadata": {}
        }
      ],
      "execution_count": 10,
      "metadata": {
        "jupyter": {
          "source_hidden": false,
          "outputs_hidden": false
        },
        "nteract": {
          "transient": {
            "deleting": false
          }
        },
        "gather": {
          "logged": 1699408681240
        }
      }
    },
    {
      "cell_type": "code",
      "source": [
        "# wait until the job completes\n",
        "ml_client.jobs.stream(pipeline_job.name)"
      ],
      "outputs": [
        {
          "output_type": "stream",
          "name": "stdout",
          "text": "RunId: blue_boniato_4p4pjkxgc8\nWeb View: https://ml.azure.com/runs/blue_boniato_4p4pjkxgc8?wsid=/subscriptions/3deaa453-5a6c-4bcd-85f1-1645c3ccd539/resourcegroups/diplomado_ucb/workspaces/ws-proyecto-2\n\nExecution Summary\n=================\nRunId: blue_boniato_4p4pjkxgc8\nWeb View: https://ml.azure.com/runs/blue_boniato_4p4pjkxgc8?wsid=/subscriptions/3deaa453-5a6c-4bcd-85f1-1645c3ccd539/resourcegroups/diplomado_ucb/workspaces/ws-proyecto-2\n\n"
        }
      ],
      "execution_count": 11,
      "metadata": {
        "jupyter": {
          "source_hidden": false,
          "outputs_hidden": false
        },
        "nteract": {
          "transient": {
            "deleting": false
          }
        },
        "gather": {
          "logged": 1699410647524
        }
      }
    },
    {
      "cell_type": "code",
      "source": [
        "# Download all the outputs of the job\n",
        "output = ml_client.jobs.download(name=pipeline_job.name, download_path='./pipeline_output', all=True)"
      ],
      "outputs": [
        {
          "output_type": "stream",
          "name": "stderr",
          "text": "Downloading artifact azureml://subscriptions/3deaa453-5a6c-4bcd-85f1-1645c3ccd539/resourcegroups/diplomado_ucb/workspaces/ws-proyecto-2/datastores/workspaceblobstore/paths/azureml/8677b878-26d5-4820-ae63-4c1390888886/pairplot_fig/ to pipeline_output/named-outputs/pipeline_fill_pairplot_output\nDownloading artifact azureml://subscriptions/3deaa453-5a6c-4bcd-85f1-1645c3ccd539/resourcegroups/diplomado_ucb/workspaces/ws-proyecto-2/datastores/workspaceblobstore/paths/azureml/f16ceec5-d162-4e3d-b6fa-fbd72eba0a4e/model_output_lr_pickle/ to pipeline_output/named-outputs/pipeline_model_pkl_lr_output\nDownloading artifact azureml://subscriptions/3deaa453-5a6c-4bcd-85f1-1645c3ccd539/resourcegroups/diplomado_ucb/workspaces/ws-proyecto-2/datastores/workspaceblobstore/paths/azureml/8dc095b3-bade-4a8f-aa83-0ab6b37cfa18/model_output_dt_pickle/ to pipeline_output/named-outputs/pipeline_model_pkl_dt_output\nDownloading artifact azureml://subscriptions/3deaa453-5a6c-4bcd-85f1-1645c3ccd539/resourcegroups/diplomado_ucb/workspaces/ws-proyecto-2/datastores/workspaceblobstore/paths/azureml/3e5ed5ac-f2ba-4d46-ba80-df8e800d0065/eval_output/ to pipeline_output/named-outputs/pipeline_eval_lr_output\nDownloading artifact azureml://subscriptions/3deaa453-5a6c-4bcd-85f1-1645c3ccd539/resourcegroups/diplomado_ucb/workspaces/ws-proyecto-2/datastores/workspaceblobstore/paths/azureml/5add5023-daf0-46b7-9ce9-982b6ff8783f/eval_output/ to pipeline_output/named-outputs/pipeline_eval_dt_output\nDownloading artifact azureml://datastores/workspaceartifactstore/paths/ExperimentRun/dcid.blue_boniato_4p4pjkxgc8/ to pipeline_output/artifacts\n"
        }
      ],
      "execution_count": 12,
      "metadata": {
        "jupyter": {
          "source_hidden": false,
          "outputs_hidden": false
        },
        "nteract": {
          "transient": {
            "deleting": false
          }
        },
        "gather": {
          "logged": 1699410657164
        }
      }
    },
    {
      "cell_type": "code",
      "source": [],
      "outputs": [],
      "execution_count": null,
      "metadata": {
        "jupyter": {
          "source_hidden": false,
          "outputs_hidden": false
        },
        "nteract": {
          "transient": {
            "deleting": false
          }
        }
      }
    }
  ],
  "metadata": {
    "kernelspec": {
      "name": "python310-sdkv2",
      "language": "python",
      "display_name": "Python 3.10 - SDK v2"
    },
    "language_info": {
      "name": "python",
      "version": "3.10.11",
      "mimetype": "text/x-python",
      "codemirror_mode": {
        "name": "ipython",
        "version": 3
      },
      "pygments_lexer": "ipython3",
      "nbconvert_exporter": "python",
      "file_extension": ".py"
    },
    "microsoft": {
      "ms_spell_check": {
        "ms_spell_check_language": "en"
      },
      "host": {
        "AzureML": {
          "notebookHasBeenCompleted": true
        }
      }
    },
    "kernel_info": {
      "name": "python310-sdkv2"
    },
    "nteract": {
      "version": "nteract-front-end@1.0.0"
    }
  },
  "nbformat": 4,
  "nbformat_minor": 2
}